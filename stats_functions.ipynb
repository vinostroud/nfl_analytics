{
 "cells": [
  {
   "cell_type": "markdown",
   "metadata": {},
   "source": [
    "This is a test file that can be ignored."
   ]
  },
  {
   "cell_type": "code",
   "execution_count": 1,
   "metadata": {},
   "outputs": [],
   "source": [
    "import pandas as pd\n",
    "import nfl_data_py as nfl\n",
    "import os\n",
    "import urllib.request\n",
    "import matplotlib.pyplot as plt\n",
    "import plotly.graph_objects as go\n",
    "import seaborn as sns\n",
    "from matplotlib.offsetbox import AnnotationBbox, OffsetImage\n",
    "from sklearn.model_selection import train_test_split\n",
    "from sklearn.linear_model import LinearRegression\n",
    "from sklearn.metrics import mean_squared_error, r2_score\n"
   ]
  },
  {
   "cell_type": "markdown",
   "metadata": {},
   "source": []
  },
  {
   "cell_type": "code",
   "execution_count": 16,
   "metadata": {},
   "outputs": [],
   "source": [
    "# Prompt the user to enter a year\n",
    "year_input = input(\"Enter the year: \")\n",
    "\n",
    "# Convert the input to an integer\n",
    "try:\n",
    "    year = int(year_input)\n",
    "except ValueError:\n",
    "    print(\"Invalid input. Please enter a valid year.\")\n",
    "    exit()"
   ]
  },
  {
   "cell_type": "code",
   "execution_count": 17,
   "metadata": {},
   "outputs": [
    {
     "name": "stdout",
     "output_type": "stream",
     "text": [
      "2022 done.\n",
      "Downcasting floats.\n"
     ]
    }
   ],
   "source": [
    "#load the nfl data\n",
    "df_year = nfl.import_pbp_data([year])\n",
    "df_teams = nfl.import_team_desc()\n",
    "#df_year.head #unecessary step; done to check that data loaded, readable"
   ]
  },
  {
   "cell_type": "code",
   "execution_count": 18,
   "metadata": {},
   "outputs": [
    {
     "data": {
      "text/plain": [
       "<bound method NDFrame.head of        play_id          game_id old_game_id home_team away_team season_type  \\\n",
       "2         68.0  2022_01_BAL_NYJ  2022091107       NYJ       BAL         REG   \n",
       "3         89.0  2022_01_BAL_NYJ  2022091107       NYJ       BAL         REG   \n",
       "4        115.0  2022_01_BAL_NYJ  2022091107       NYJ       BAL         REG   \n",
       "5        136.0  2022_01_BAL_NYJ  2022091107       NYJ       BAL         REG   \n",
       "7        202.0  2022_01_BAL_NYJ  2022091107       NYJ       BAL         REG   \n",
       "...        ...              ...         ...       ...       ...         ...   \n",
       "47828   3520.0  2022_18_TEN_JAX  2023010701       JAX       TEN         REG   \n",
       "47830   3544.0  2022_18_TEN_JAX  2023010701       JAX       TEN         REG   \n",
       "47831   3577.0  2022_18_TEN_JAX  2023010701       JAX       TEN         REG   \n",
       "47834   3651.0  2022_18_TEN_JAX  2023010701       JAX       TEN         REG   \n",
       "47836   3677.0  2022_18_TEN_JAX  2023010701       JAX       TEN         REG   \n",
       "\n",
       "       week posteam posteam_type defteam  ...  \\\n",
       "2         1     NYJ         home     BAL  ...   \n",
       "3         1     NYJ         home     BAL  ...   \n",
       "4         1     NYJ         home     BAL  ...   \n",
       "5         1     NYJ         home     BAL  ...   \n",
       "7         1     BAL         away     NYJ  ...   \n",
       "...     ...     ...          ...     ...  ...   \n",
       "47828    18     TEN         away     JAX  ...   \n",
       "47830    18     TEN         away     JAX  ...   \n",
       "47831    18     TEN         away     JAX  ...   \n",
       "47834    18     TEN         away     JAX  ...   \n",
       "47836    18     TEN         away     JAX  ...   \n",
       "\n",
       "                                         offense_players  \\\n",
       "2      00-0036924;00-0032466;00-0036979;00-0032234;00...   \n",
       "3      00-0036924;00-0032466;00-0032234;00-0036979;00...   \n",
       "4      00-0036924;00-0032466;00-0036979;00-0032234;00...   \n",
       "5      00-0036924;00-0032466;00-0036979;00-0032234;00...   \n",
       "7      00-0033118;00-0034978;00-0034753;00-0031330;00...   \n",
       "...                                                  ...   \n",
       "47828  00-0033793;00-0037754;00-0036171;00-0033740;00...   \n",
       "47830  00-0033793;00-0037754;00-0032764;00-0036171;00...   \n",
       "47831  00-0033793;00-0032764;00-0037754;00-0036171;00...   \n",
       "47834  00-0037617;00-0037754;00-0033793;00-0036171;00...   \n",
       "47836  00-0037617;00-0037754;00-0033793;00-0036171;00...   \n",
       "\n",
       "                                         defense_players n_offense  n_defense  \\\n",
       "2      00-0033294;00-0026190;00-0032574;00-0028278;00...        11         11   \n",
       "3      00-0033294;00-0026190;00-0032574;00-0028278;00...        11         11   \n",
       "4      00-0033294;00-0026190;00-0032574;00-0028278;00...        11         11   \n",
       "5      00-0033294;00-0026190;00-0032574;00-0028278;00...        11         11   \n",
       "7      00-0033463;00-0032109;00-0034384;00-0032759;00...        11         11   \n",
       "...                                                  ...       ...        ...   \n",
       "47828  00-0036262;00-0037235;00-0032667;00-0034825;00...        11         11   \n",
       "47830  00-0027686;00-0034516;00-0034825;00-0035642;00...        11         11   \n",
       "47831  00-0027686;00-0037235;00-0034516;00-0035642;00...        11         11   \n",
       "47834  00-0037235;00-0032667;00-0034825;00-0034516;00...        11         11   \n",
       "47836  00-0037235;00-0032667;00-0034825;00-0034516;00...        11         11   \n",
       "\n",
       "       ngs_air_yards  time_to_throw was_pressure   route  \\\n",
       "2                NaN            NaN         None    None   \n",
       "3               0.56          3.070         True   ANGLE   \n",
       "4                NaN            NaN         None    None   \n",
       "5                NaN          4.772         True    None   \n",
       "7              -3.39          3.370        False   CROSS   \n",
       "...              ...            ...          ...     ...   \n",
       "47828           4.61          1.668        False   HITCH   \n",
       "47830            NaN            NaN         None    None   \n",
       "47831            NaN            NaN         None    None   \n",
       "47834           2.35          4.438         True   ANGLE   \n",
       "47836           2.68          3.703        False  SCREEN   \n",
       "\n",
       "       defense_man_zone_type  defense_coverage_type  \n",
       "2                       None                   None  \n",
       "3              ZONE_COVERAGE                COVER_2  \n",
       "4                       None                   None  \n",
       "5              ZONE_COVERAGE                COVER_3  \n",
       "7              ZONE_COVERAGE                COVER_3  \n",
       "...                      ...                    ...  \n",
       "47828           MAN_COVERAGE                COVER_1  \n",
       "47830                   None                   None  \n",
       "47831                   None                   None  \n",
       "47834          ZONE_COVERAGE                COVER_3  \n",
       "47836          ZONE_COVERAGE                COVER_3  \n",
       "\n",
       "[35157 rows x 390 columns]>"
      ]
     },
     "execution_count": 18,
     "metadata": {},
     "output_type": "execute_result"
    }
   ],
   "source": [
    "#some filtering\n",
    "\n",
    "df_year = df_year[df_year[\"season_type\"] == \"REG\"] #filter to regular season\n",
    "df_year = df_year[(df_year['pass']==1) | (df_year['rush'] == 1)]  #get rid of plays where there is only one team on the field (like kick offs)\n",
    "df_year = df_year.dropna(subset = ['epa', 'posteam', 'defteam']) #get rid of plays without epa, a possession team, or a defense team\n",
    "df_year.shape\n",
    "df_year.head"
   ]
  },
  {
   "cell_type": "code",
   "execution_count": null,
   "metadata": {},
   "outputs": [],
   "source": [
    "# Function to calculate mean EPA for first down in the given year\n",
    "def calculate_mean_epa_down1(year):\n",
    "    import nfl_data_py as nfl\n",
    "    df_year = nfl.import_pbp_data([year])\n",
    "    mean_epa_down1 = df_year[df_year['down'] == 1].groupby('posteam')['epa'].mean().reset_index()\n",
    "    mean_epa_down1['Rank'] = mean_epa_down1['epa'].rank(ascending=False, method='min')\n",
    "    mean_epa_down1 = mean_epa_down1[['Rank', 'posteam', 'epa']].sort_values('epa', ascending=False)\n",
    "    return mean_epa_down1"
   ]
  }
 ],
 "metadata": {
  "kernelspec": {
   "display_name": "Python 3",
   "language": "python",
   "name": "python3"
  },
  "language_info": {
   "codemirror_mode": {
    "name": "ipython",
    "version": 3
   },
   "file_extension": ".py",
   "mimetype": "text/x-python",
   "name": "python",
   "nbconvert_exporter": "python",
   "pygments_lexer": "ipython3",
   "version": "3.12.1"
  }
 },
 "nbformat": 4,
 "nbformat_minor": 2
}
